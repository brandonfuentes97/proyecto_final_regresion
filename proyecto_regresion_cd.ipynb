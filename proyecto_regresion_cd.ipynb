{
 "cells": [
  {
   "attachments": {},
   "cell_type": "markdown",
   "metadata": {},
   "source": [
    "## **PROYECTO FINAL**\n",
    "### REGRESIÓN"
   ]
  },
  {
   "attachments": {},
   "cell_type": "markdown",
   "metadata": {},
   "source": [
    "y = β0 + β1 ∗ x\n",
    "\n",
    "donde\n",
    "\n",
    "- y es la variable dependiente,\n",
    "- x es la variable independiente,\n",
    "- β0 es el intercepto de la recta,\n",
    "- β1 es la pendiente de la recta."
   ]
  },
  {
   "cell_type": "code",
   "execution_count": 1,
   "metadata": {},
   "outputs": [],
   "source": [
    "import numpy as np"
   ]
  },
  {
   "cell_type": "code",
   "execution_count": null,
   "metadata": {},
   "outputs": [],
   "source": []
  }
 ],
 "metadata": {
  "kernelspec": {
   "display_name": "base",
   "language": "python",
   "name": "python3"
  },
  "language_info": {
   "codemirror_mode": {
    "name": "ipython",
    "version": 3
   },
   "file_extension": ".py",
   "mimetype": "text/x-python",
   "name": "python",
   "nbconvert_exporter": "python",
   "pygments_lexer": "ipython3",
   "version": "3.9.13"
  },
  "orig_nbformat": 4,
  "vscode": {
   "interpreter": {
    "hash": "e5db5a4253cce121ebe9698d376510bf384b5e4f783aefd7966c8046af1cda3e"
   }
  }
 },
 "nbformat": 4,
 "nbformat_minor": 2
}
